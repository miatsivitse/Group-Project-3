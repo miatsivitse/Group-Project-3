{
 "cells": [
  {
   "cell_type": "code",
   "execution_count": 2,
   "id": "9c2878fd",
   "metadata": {},
   "outputs": [
    {
     "name": "stdout",
     "output_type": "stream",
     "text": [
      "Collecting geopy\n",
      "  Downloading geopy-2.3.0-py3-none-any.whl (119 kB)\n",
      "\u001b[K     |████████████████████████████████| 119 kB 3.0 MB/s eta 0:00:01\n",
      "\u001b[?25hCollecting geographiclib<3,>=1.52\n",
      "  Downloading geographiclib-2.0-py3-none-any.whl (40 kB)\n",
      "\u001b[K     |████████████████████████████████| 40 kB 6.0 MB/s eta 0:00:011\n",
      "\u001b[?25hInstalling collected packages: geographiclib, geopy\n",
      "Successfully installed geographiclib-2.0 geopy-2.3.0\n",
      "Note: you may need to restart the kernel to use updated packages.\n"
     ]
    }
   ],
   "source": [
    "pip install geopy "
   ]
  },
  {
   "cell_type": "code",
   "execution_count": 3,
   "id": "3c78660d",
   "metadata": {},
   "outputs": [
    {
     "name": "stdout",
     "output_type": "stream",
     "text": [
      "Collecting Nominatim\n",
      "  Downloading nominatim-0.1.tar.gz (1.7 kB)\n",
      "Building wheels for collected packages: Nominatim\n",
      "  Building wheel for Nominatim (setup.py) ... \u001b[?25ldone\n",
      "\u001b[?25h  Created wheel for Nominatim: filename=nominatim-0.1-py3-none-any.whl size=2363 sha256=9e887a11ae37e92ff9de926183cf1240199cfe18437fcf442cd932412f4a863e\n",
      "  Stored in directory: /Users/ajdomingo/Library/Caches/pip/wheels/37/00/9e/d904c390bfb174830ad3dcfd62af5544cee7d88bed4f8acedd\n",
      "Successfully built Nominatim\n",
      "Installing collected packages: Nominatim\n",
      "Successfully installed Nominatim-0.1\n",
      "Note: you may need to restart the kernel to use updated packages.\n"
     ]
    }
   ],
   "source": [
    "pip install Nominatim"
   ]
  },
  {
   "cell_type": "code",
   "execution_count": 2,
   "id": "cccaab50",
   "metadata": {},
   "outputs": [],
   "source": [
    "from geopy.geocoders import Nominatim\n",
    "import pandas as pd"
   ]
  },
  {
   "cell_type": "code",
   "execution_count": null,
   "id": "2a3e8547",
   "metadata": {},
   "outputs": [],
   "source": [
    "file = \"Resources/Seattle_Housing_Cost_Burden.csv\"\n",
    "file_df = pd.read_csv(file)\n",
    "file_df.head()"
   ]
  }
 ],
 "metadata": {
  "kernelspec": {
   "display_name": "PythonData",
   "language": "python",
   "name": "pythondata"
  },
  "language_info": {
   "codemirror_mode": {
    "name": "ipython",
    "version": 3
   },
   "file_extension": ".py",
   "mimetype": "text/x-python",
   "name": "python",
   "nbconvert_exporter": "python",
   "pygments_lexer": "ipython3",
   "version": "3.7.7"
  }
 },
 "nbformat": 4,
 "nbformat_minor": 5
}
