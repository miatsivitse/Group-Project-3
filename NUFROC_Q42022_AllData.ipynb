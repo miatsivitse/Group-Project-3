{
 "cells": [
  {
   "cell_type": "code",
   "execution_count": null,
   "id": "1c179384",
   "metadata": {},
   "outputs": [],
   "source": [
    "import pandas as pd "
   ]
  },
  {
   "cell_type": "code",
   "execution_count": null,
   "id": "e5f5c4ab",
   "metadata": {},
   "outputs": [],
   "source": [
    "Dec2022 = pd.read_csv('Dec22_Data.csv')\n",
    "Nov2022 = pd.read_csv('Nov22_Data.csv')\n",
    "Oct2022 = pd.read_csv('Oct22_Data.csv')\n",
    "\n",
    "summary = Oct2022.append(Nov2022)\n",
    "q42022_data = summary.append(Dec2022)"
   ]
  },
  {
   "cell_type": "code",
   "execution_count": null,
   "id": "629f833a",
   "metadata": {},
   "outputs": [],
   "source": [
    "q42022_data.rename({\"Unnamed: 0\":\"a\"}, axis=\"columns\", inplace=True)"
   ]
  }
 ],
 "metadata": {
  "kernelspec": {
   "display_name": "PythonData",
   "language": "python",
   "name": "pythondata"
  },
  "language_info": {
   "codemirror_mode": {
    "name": "ipython",
    "version": 3
   },
   "file_extension": ".py",
   "mimetype": "text/x-python",
   "name": "python",
   "nbconvert_exporter": "python",
   "pygments_lexer": "ipython3",
   "version": "3.7.7"
  }
 },
 "nbformat": 4,
 "nbformat_minor": 5
}
